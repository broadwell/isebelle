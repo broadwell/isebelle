{
 "cells": [
  {
   "cell_type": "code",
   "execution_count": 6,
   "id": "fe8d752b",
   "metadata": {},
   "outputs": [
    {
     "name": "stderr",
     "output_type": "stream",
     "text": [
      "Fetching 11 files: 100%|██████████| 11/11 [00:00<00:00, 122056.47it/s]\n"
     ]
    }
   ],
   "source": [
    "from mlx_lm import load, generate\n",
    "\n",
    "model, tokenizer = load(\"mlx-community/gte-Qwen2-7B-instruct-4bit-DWQ\")"
   ]
  },
  {
   "cell_type": "code",
   "execution_count": 1,
   "id": "caf6d72d",
   "metadata": {},
   "outputs": [
    {
     "name": "stderr",
     "output_type": "stream",
     "text": [
      "/opt/homebrew/anaconda3/envs/embeddings/lib/python3.12/site-packages/tqdm/auto.py:21: TqdmWarning: IProgress not found. Please update jupyter and ipywidgets. See https://ipywidgets.readthedocs.io/en/stable/user_install.html\n",
      "  from .autonotebook import tqdm as notebook_tqdm\n",
      "A new version of the following files was downloaded from https://huggingface.co/Alibaba-NLP/new-impl:\n",
      "- configuration.py\n",
      ". Make sure to double-check they do not contain any added malicious code. To avoid downloading new versions of the code file, you can pin a revision.\n",
      "A new version of the following files was downloaded from https://huggingface.co/Alibaba-NLP/new-impl:\n",
      "- modeling.py\n",
      ". Make sure to double-check they do not contain any added malicious code. To avoid downloading new versions of the code file, you can pin a revision.\n",
      "Some weights of the model checkpoint at Alibaba-NLP/gte-multilingual-base were not used when initializing NewModel: ['classifier.bias', 'classifier.weight']\n",
      "- This IS expected if you are initializing NewModel from the checkpoint of a model trained on another task or with another architecture (e.g. initializing a BertForSequenceClassification model from a BertForPreTraining model).\n",
      "- This IS NOT expected if you are initializing NewModel from the checkpoint of a model that you expect to be exactly identical (initializing a BertForSequenceClassification model from a BertForSequenceClassification model).\n"
     ]
    }
   ],
   "source": [
    "# Requires sentence-transformers>=3.0.0\n",
    "\n",
    "from sentence_transformers import SentenceTransformer\n",
    "\n",
    "input_texts = [\n",
    "    \"what is the capital of China?\",\n",
    "    \"how to implement quick sort in python?\",\n",
    "    \"北京\",\n",
    "    \"快排算法介绍\"\n",
    "]\n",
    "\n",
    "model_name_or_path=\"Alibaba-NLP/gte-multilingual-base\"\n",
    "model = SentenceTransformer(model_name_or_path, trust_remote_code=True)\n",
    "embeddings = model.encode(input_texts, normalize_embeddings=True) # embeddings.shape (4, 768)\n",
    "\n",
    "# sim scores\n",
    "scores = model.similarity(embeddings[:1], embeddings[1:])"
   ]
  },
  {
   "cell_type": "code",
   "execution_count": 19,
   "id": "aebe9e02",
   "metadata": {},
   "outputs": [
    {
     "data": {
      "text/plain": [
       "transformers_modules.Alibaba-NLP.gte-Qwen2-7B-instruct.a8d08b36ada9cacfe34c4d6f80957772a025daf2.modeling_qwen.Qwen2Model"
      ]
     },
     "execution_count": 19,
     "metadata": {},
     "output_type": "execute_result"
    }
   ],
   "source": [
    "type(model)"
   ]
  },
  {
   "cell_type": "code",
   "execution_count": 3,
   "id": "bc555894",
   "metadata": {},
   "outputs": [
    {
     "data": {
      "text/plain": [
       "8192"
      ]
     },
     "execution_count": 3,
     "metadata": {},
     "output_type": "execute_result"
    }
   ],
   "source": [
    "model.max_seq_length"
   ]
  },
  {
   "cell_type": "code",
   "execution_count": 2,
   "id": "d71a76a0",
   "metadata": {},
   "outputs": [
    {
     "data": {
      "text/plain": [
       "tensor([[0.3017, 0.7504, 0.3203]])"
      ]
     },
     "execution_count": 2,
     "metadata": {},
     "output_type": "execute_result"
    }
   ],
   "source": [
    "scores"
   ]
  },
  {
   "cell_type": "code",
   "execution_count": null,
   "id": "cecd4e72",
   "metadata": {},
   "outputs": [
    {
     "name": "stderr",
     "output_type": "stream",
     "text": [
      "Loading checkpoint shards: 100%|██████████| 7/7 [00:00<00:00, 52.69it/s]\n"
     ]
    }
   ],
   "source": [
    "import torch\n",
    "import torch.nn.functional as F\n",
    "\n",
    "from torch import Tensor\n",
    "from transformers import AutoTokenizer, AutoModel\n",
    "\n",
    "\n",
    "def last_token_pool(last_hidden_states: Tensor,\n",
    "                 attention_mask: Tensor) -> Tensor:\n",
    "    left_padding = (attention_mask[:, -1].sum() == attention_mask.shape[0])\n",
    "    if left_padding:\n",
    "        return last_hidden_states[:, -1]\n",
    "    else:\n",
    "        sequence_lengths = attention_mask.sum(dim=1) - 1\n",
    "        batch_size = last_hidden_states.shape[0]\n",
    "        return last_hidden_states[torch.arange(batch_size, device=last_hidden_states.device), sequence_lengths]\n",
    "    \n",
    "tokenizer = AutoTokenizer.from_pretrained('Alibaba-NLP/gte-Qwen2-7B-instruct', trust_remote_code=True)\n",
    "#tokenizer = AutoTokenizer.from_pretrained('mlx-community/gte-Qwen2-7B-instruct-4bit-DWQ', trust_remote_code=True)\n",
    "model = AutoModel.from_pretrained('Alibaba-NLP/gte-Qwen2-7B-instruct', trust_remote_code=True)\n",
    "\n",
    "max_length = 8192"
   ]
  },
  {
   "cell_type": "code",
   "execution_count": 17,
   "id": "5da63049",
   "metadata": {},
   "outputs": [],
   "source": [
    "\n",
    "input_texts = [\"147. I Hallendrup er en Gård, der hedder Hovgården, og der havde de en Nisse. Han gik og vilde efterse både det ene og det andet om Natten. I Ginderup havde de også en Nisse, det er blot en halv Fjerdingvej derfra, og de to Nisser vilde gå og tage fra hinanden. En Gang render de på hinanden nede i Skoven, der er mellem de to Byer, og kom i Træde. I Hallendrup var ingen Smed, så Folk fik smedet i Ginderup, hvor der boede en Smed, som smedede for hele Egnen. En Mand fra Hallendrup havde været nede ved Smeden, og da han går tilbage, kommer han forbi deher Nisser. Han var bange for dem og kravlede ind i et hult Træ. De kommer til at slås, og Hallendrup-Nissen der kunde stå sig, sagde så: »Så du det, Terkild i Trunten, om a kund it knæl Bassel nier.« Terkild han strøg nu ud af Træet og hjem, han troede jo ikke, de havde set ham. En gammel Mand, der gik og tiggede, fik en Sommeraften Lov til at ligge inde i Laden i Hovgården i noget Halm. Han kunde dog ikke sove for Nis. Ladevinduet var løft af, for det skulde tørre derind, og der sad Nis på hans Ende og satte Benene ud, men alle Byens lose Hunde var samlede uden for og holdt Spektakkel, for han sad og drilte dem. Lige hvert Øjeblik sad han og spjættede efter dem så med det ene Ben og så med det andet og sagde: »Pus mæ den Lall å pus mæ den Lall,« for at gjøre dem endnu mere gale. Da denher gamle Mand havde ligget og set på det noget, så lister han sig lige så stille hen og render ham ud af Vinduet: »Pus ham nu åld sammel.« Derefter lagde han sig igjen og kunde nu sove, for hele Spektaklet havde dermed Ende. Den Gang Folkene i Gården kom op om Morgenen, da lå den gamle Mand på hans Ryg på en smal Fjæl tvært over deres Kjelde. Der havde Nis lagt ham, og Folkene måtte være forsigtige med at få ham ned, at han skulde ikke falde i Kjelden. En Aften Staldkarlen var ude at fodre, siger Nis: »Der bliver for lidt Havre, det er sært, du kan ikke se det.«  »Ja, det kan a ikke gjøre ved, a kan ikke tage mere, end vi har,« siger Karlen. Da siger Nissen: »A véd et Sted i Langskov, der har de så meget Havre, og så skal du med derhen at hente noget.« Det ligger en tre Fjerdingvej sønden for Hallendrup. De fulgtes nu ad derhen en Aften med et Reb hverre. Nissen tog halvtredje Trave i hans Reb, og Karlen tog en Halvsnes Neg. Da de kommer Halvvejen hjem og var godt forbi Stubdrup, siger Karlen: »A kommer til at hvile mig, ellers kan a ikke gå hjem.«  »Hvad er det?« sagde Nis. »Nu lægger a mit Bundt på Jorden og sætter mig ovenpå det lidt, så kan a bedre bære det igjen.« Så gjorde de det begge to. Da sagde Nis: »Det var skidt, a vidste ikke det, ellers kunde a have taget lige så meget til.« Da de havde hvilt et bitte Korn, skulde de til at op igjen. Men da var det ikke muligt, Nis kunde rokke hans nogen Steds. »Ja, a har det nok ikke sådan, a kan hvile. Det er nok noget, a må ikke. Men nu vil a løse Rebet af, og så vil a tage fire Traver i det, så skal a nok komme hjem med det, og så får du at sørge for at få dether båret hjem til Dag.« Han kunde jo ikke tage mere end en Halvsnes Nege ad Gangen, og da han kom hjem, fik han et Par andre Karle med sig, og de kom til at bære. Nis kom med hans Borren og lagde uden for Vinduet til Hakkelsehuset. Men den første Borren fik Karlene ikke slæbt hjem til Dag, for de skulde gå så mange Gange. Så sagde han til Karlen: »Nu får du at holde Hus med det, og der bliver vist nok, til vi får Græs i Sommer.« Karlen sagde tit, at han havde stor Nytte af den Nisse, for manglede han noget, kunde han godt få det. Mogens Larsen Mogensen, Lerbjærg.\",\n",
    "               \"258. Der har en Gang været en forfærdelig Ståhøj der nede i Kjærbølling, og det skal a fortælle om. Der boede en Mand dernede, som havde sådan et forfærdeligt Uheld og kunde ikke holde Balans. Nu havde han jo hørt, der var Nisser til, men han kjendte ikke videre til den Slags Folk, han vidste blot, det var nøjsomme Folk, der var tilfreds, når de blot fik Smør i deres Grød og sådan. Men nu vidste han jo ikke hans levende Råd med, hvordan han skulde få fat i sådan en Nisse. Han havde nok hørt, der var to på en Gård noget derfra, men hvordan skulde han få Snak med dem? Så fik han Sognefogden til at læse det op ved Kirkestævne, te den og den Mand i Kjærbølling ønskede sig en af deher små Væsener, og han ønskede nok, det blev gjort bekjendt. Hvad deres Yndlingsret angik, så skulde de nok få den. Hvordan det nu gik til eller ikke, så en Aften mælder der sig en Nisse ved ham, han var lille af Vægst og havde en rød Lue på. Men Manden var ikke rigtig inde på, det var en Nisse, han mente, de skulde se anderledes ud, og var lige ved at have jaget ham ud. Men der var Konen mere fornuftig, hun hed Sidsel og havde godt nok Tro til, det var en Nisse. Så fik hun travlt med at få lavet et Fad Grød til til ham og med et vældigt stort Smorhul i og en dygtig Klat Smør. Nis satte sig jo til Fadet og åd både Grød og Smør og var vel tilfreds, og Konen redte en god Seng til ham oppe i Endestuen. Ved han skulde derop, lyste hun ham til Sengs, og så vilde han vide, hvad de trængte hårdest til. »Ja, vi trænger til så meget,« siger hun. Ja, det kunde være det samme, han skulde nok skaffe det, men ét Løfte vilde han have, ja, det skulde næsten være to. Det ene var, te han kunde blive ved at få sådan en Ret hver Aften som i Aften, og det andet var, te han måtte tage hans Kammerat med, for de var nemlig to. Ja, det vilde hun nok love ham, hvis han ellers kunde skaffe Velstand til Huse. De havde det jo småt med alting, de manglede Havre og Foderasi og Kræ til at æde det, og Penge til at kjøbe for, hvad de manglede. Så om Morgenen efter da stod der tre Hæsse uden for Porten, og dem havde Nissen bragt til Gården, og samtidig var den anden kommen også. Men de viste dem ikke andre Tider end om Aftenen til Nadver, da åd de hver et stort Fad Grød med Smør i. Næste Nat kom der 2 Spænd Heste og 3 Spænd Stude og en halv Snes Køer. Så manglede jo Vogne og Plove og Harver til alt det, men det kom også Natten efter og var der om Morgenen, så Nisserne bjærgede godt hjem, og nu manglede der ikke sådan noget. De havde nu fået alt det Korn, der stod i Hæssene, men så skulde det tærskes, og det kunde Folkene heller ikke komme af Sted med. Men så en Nat giver Nisserne sig til at tærske det, og om Morgenen lå det hver Slags for sig. Så skulde det gjøres rent, for der var jo altid noget ved det. Så siger den ene Nisse: »Det kan a snart gjøre.«  »Ja, ikke så snart som a kan,« siger den anden, »for a har en meget større Mund end du.« Han havde nu ikke sagt noget før, og så går han op på Huset og brækker Hul på Taget og giver sig til at puste og blæse, te Avner og Halm det røg væk, og så var Kornet rent. Men Vinden bar øster fra, og dether Avner og Halm og Stads røg over i Nabogården og dækkede Vinduer og det hele, så de kunde ikke en Gang komme ud af Huset. Manden der ovre troede jo, det havde været en Orkan, og besværede sig over det, men da han havde set, te Nabomanden havde fået så mange Stakke og så meget Korn, så kom han i Tanker om, te det var nok kommet fra ham af, og gav ondt af sig til ham over det. Så tykte Manden, der havde Nisserne, te når de skulde have Spektakler med Naboen for deres Skyld, så var det bedst at komme af med dem igjen, og nu var de jo blevne så velstillede, te de kunde nok undvære dem, mente de. Mand og Kone holder så Rådslagning om, hvordan de skal blive dem ledige. Manden var jo noget opfindsom i hans egne Tanker, og så siger han, te de kunde da lade være med at give dem Smør i Grøden, så tejste de nok af. »Ja,« siger Konen, »det tør a ikke vove, for a har lovet dem, te de skulde have det sådan.« Men så udtænkte hun det Råd, te hun vilde komme Smørret nederst i Fadet og Grøden ovenpå. Ved den ene Nis så kommer om Aftenen og skal have hans Grød, så ser han til hans store Forbavselse, te der er ingen Smør i. Han bliver da vred og går ud og vrider Halsen om på en to tre af Køerne. Derefter går han rolig ind og æder igjen af Grøden. Endelig kommer han så langt ned, te han opdager, Smørret var i Bunden, og så bliver han kjed af, te han har gjort det med Køerne. Manden og Konen kommer ud i det samme og ser, te de ligger sådan, og Halsen er vreden om på dem, og de jamrer jo højt over det. Men samme Nat bærer Nis de døde Køer over til Naboens og henter lige så mange af hans, der var meget bedre og kunde give endnu mere Mælk til Hjælp til Smørret. Hans Medhjælper med den store Mund gik med, og han pust alt det Halm og Avner væk igjen, og det fløj vesterpå, og der blev sådan en Orkan ned efter Vesterhavet til, te Folkene der nede troede, alle Sandklitterne var ved at flytte dem. Nisserne blev så ved Manden og var der en Tid og fik deres Grød og deres Smør, indtil Nissetiden var forbi. Men de har jo lovet at komme igjen 1901  og kanske de er komne, men a har nu endelig ikke hørt noget om det. Her er liere Nissesagn sammenblandede. Marius Hansen, Mølvang. C. Farende Uhyrer.\"]\n",
    "\n",
    "\n",
    "# Tokenize the input texts\n",
    "batch_dict = tokenizer(input_texts[1], return_overflowing_tokens=True, max_length=max_length, padding=\"do_not_pad\", return_tensors='pt')\n"
   ]
  },
  {
   "cell_type": "code",
   "execution_count": 18,
   "id": "f72bd013",
   "metadata": {},
   "outputs": [
    {
     "data": {
      "text/plain": [
       "torch.Size([1, 1833])"
      ]
     },
     "execution_count": 18,
     "metadata": {},
     "output_type": "execute_result"
    }
   ],
   "source": [
    "batch_dict[\"input_ids\"].shape"
   ]
  },
  {
   "cell_type": "code",
   "execution_count": 23,
   "id": "af21309e",
   "metadata": {},
   "outputs": [],
   "source": [
    "outputs = model(**batch_dict)\n",
    "#outputs = model(inputs = mlx.core.array(batch_dict[\"input_ids\"].numpy()), mask = mlx.core.array(batch_dict[\"attention_mask\"].numpy()))"
   ]
  },
  {
   "cell_type": "code",
   "execution_count": 25,
   "id": "9e14197e",
   "metadata": {},
   "outputs": [],
   "source": [
    "embeddings = last_token_pool(outputs.last_hidden_state, batch_dict['attention_mask'])\n",
    "\n",
    "# normalize embeddings\n",
    "embeddings = F.normalize(embeddings, p=2, dim=1)"
   ]
  },
  {
   "cell_type": "code",
   "execution_count": 26,
   "id": "8e4d586e",
   "metadata": {},
   "outputs": [
    {
     "data": {
      "text/plain": [
       "tensor([[-0.0121, -0.0143, -0.0039,  ...,  0.0183, -0.0050,  0.0196]],\n",
       "       grad_fn=<DivBackward0>)"
      ]
     },
     "execution_count": 26,
     "metadata": {},
     "output_type": "execute_result"
    }
   ],
   "source": [
    "embeddings"
   ]
  },
  {
   "cell_type": "code",
   "execution_count": null,
   "id": "8671abae",
   "metadata": {},
   "outputs": [
    {
     "ename": "TypeError",
     "evalue": "Model.__call__() takes from 2 to 5 positional arguments but 6 were given",
     "output_type": "error",
     "traceback": [
      "\u001b[31m---------------------------------------------------------------------------\u001b[39m",
      "\u001b[31mTypeError\u001b[39m                                 Traceback (most recent call last)",
      "\u001b[36mCell\u001b[39m\u001b[36m \u001b[39m\u001b[32mIn[7]\u001b[39m\u001b[32m, line 1\u001b[39m\n\u001b[32m----> \u001b[39m\u001b[32m1\u001b[39m outputs = \u001b[43mmodel\u001b[49m\u001b[43m(\u001b[49m\u001b[43m*\u001b[49m\u001b[43msent\u001b[49m\u001b[43m)\u001b[49m\n",
      "\u001b[31mTypeError\u001b[39m: Model.__call__() takes from 2 to 5 positional arguments but 6 were given"
     ]
    }
   ],
   "source": [
    "outputs = model(sent)"
   ]
  },
  {
   "cell_type": "code",
   "execution_count": null,
   "id": "cc35cff7",
   "metadata": {},
   "outputs": [],
   "source": []
  }
 ],
 "metadata": {
  "kernelspec": {
   "display_name": "embeddings",
   "language": "python",
   "name": "python3"
  },
  "language_info": {
   "codemirror_mode": {
    "name": "ipython",
    "version": 3
   },
   "file_extension": ".py",
   "mimetype": "text/x-python",
   "name": "python",
   "nbconvert_exporter": "python",
   "pygments_lexer": "ipython3",
   "version": "3.12.9"
  }
 },
 "nbformat": 4,
 "nbformat_minor": 5
}
